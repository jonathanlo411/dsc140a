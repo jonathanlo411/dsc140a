{
 "cells": [
  {
   "cell_type": "markdown",
   "id": "a15241df",
   "metadata": {},
   "source": [
    "# HW5"
   ]
  },
  {
   "cell_type": "code",
   "execution_count": 1,
   "id": "33500a55",
   "metadata": {},
   "outputs": [],
   "source": [
    "# Imports\n",
    "import numpy as np"
   ]
  },
  {
   "cell_type": "code",
   "execution_count": 2,
   "id": "19089586",
   "metadata": {},
   "outputs": [],
   "source": [
    "# Overhead\n",
    "X = np.array([[0, 2],\n",
    "             [1, 0],\n",
    "             [0, -2],\n",
    "             [-1, 0],\n",
    "             [0, 0]])\n",
    "y = np.array([1, 1, 1, 1, -1])\n",
    "lambda_param = 2\n",
    "n = len(X)\n",
    "\n",
    "def kernel(x, xp):\n",
    "    \"\"\" Kernel for the basis function given below\n",
    "    \"\"\"\n",
    "    return (1 + np.dot(x, xp))**2\n",
    "\n",
    "def basis(x):\n",
    "    \"\"\" Basis function as stated in the problem\n",
    "    \"\"\"\n",
    "    return np.array([\n",
    "        1,\n",
    "        x[0]**2,\n",
    "        x[1]**2,\n",
    "        np.sqrt(2) * x[0],\n",
    "        np.sqrt(2) * x[1],\n",
    "        np.sqrt(2) * x[0] * x[1]\n",
    "    ])"
   ]
  },
  {
   "cell_type": "markdown",
   "id": "1ae746a9",
   "metadata": {},
   "source": [
    "## 1a. Ridge Regression using Basis Function"
   ]
  },
  {
   "cell_type": "code",
   "execution_count": 3,
   "id": "44be8076",
   "metadata": {},
   "outputs": [
    {
     "name": "stdout",
     "output_type": "stream",
     "text": [
      "Optimal Param: [0.02857143 0.48571429 0.22857143 0.         0.         0.        ]\n"
     ]
    }
   ],
   "source": [
    "# Calculate feature space using the basis function\n",
    "X_feature_space = np.array([basis(x) for x in X])\n",
    "\n",
    "# Solve for w_star\n",
    "w_star = np.linalg.inv(X_feature_space.T @ X_feature_space + lambda_param * np.eye(X_feature_space.shape[1])) \\\n",
    "    @ X_feature_space.T @ y\n",
    "print(f\"Optimal Param: {w_star}\")"
   ]
  },
  {
   "cell_type": "markdown",
   "id": "16a71e97",
   "metadata": {},
   "source": [
    "## 1b. Predict New Point (1,1)"
   ]
  },
  {
   "cell_type": "code",
   "execution_count": 4,
   "id": "05e21aff",
   "metadata": {},
   "outputs": [
    {
     "name": "stdout",
     "output_type": "stream",
     "text": [
      "Prediction: 0.7428571428571429\n"
     ]
    }
   ],
   "source": [
    "x_new = np.array([1, 1])\n",
    "\n",
    "# Calc the transformed x vec\n",
    "phi_x_new = basis(x_new)\n",
    "pred = np.dot(w_star, phi_x_new)\n",
    "print(f\"Prediction: {pred}\")"
   ]
  },
  {
   "cell_type": "markdown",
   "id": "f3b74232",
   "metadata": {},
   "source": [
    "## 1c. Calculate Kernel Matrix"
   ]
  },
  {
   "cell_type": "code",
   "execution_count": 5,
   "id": "38ba9bff",
   "metadata": {},
   "outputs": [
    {
     "data": {
      "text/plain": [
       "array([[25.,  1.,  9.,  1.,  1.],\n",
       "       [ 1.,  4.,  1.,  0.,  1.],\n",
       "       [ 9.,  1., 25.,  1.,  1.],\n",
       "       [ 1.,  0.,  1.,  4.,  1.],\n",
       "       [ 1.,  1.,  1.,  1.,  1.]])"
      ]
     },
     "execution_count": 5,
     "metadata": {},
     "output_type": "execute_result"
    }
   ],
   "source": [
    "# Precalculate Kernal Matrix\n",
    "K = np.zeros((len(X), len(X)))\n",
    "for i in range(len(X)):\n",
    "    for j in range(len(X)):\n",
    "        K[i, j] = kernel(X[i], X[j])\n",
    "K"
   ]
  },
  {
   "cell_type": "markdown",
   "id": "6f896ebe",
   "metadata": {},
   "source": [
    "## 1d. Ridge Regression using Kernel Trick"
   ]
  },
  {
   "cell_type": "code",
   "execution_count": 6,
   "id": "82379874",
   "metadata": {},
   "outputs": [
    {
     "name": "stdout",
     "output_type": "stream",
     "text": [
      "Optimal Param: [ 0.02173913  0.07608696  0.02173913  0.07608696 -0.10869565]\n"
     ]
    }
   ],
   "source": [
    "# Find a_star\n",
    "a_star = np.linalg.inv(K + n * lambda_param * np.eye(len(K))) @ y\n",
    "print(f\"Optimal Param: {a_star}\")"
   ]
  },
  {
   "cell_type": "markdown",
   "id": "37ffd8c3",
   "metadata": {},
   "source": [
    "## 1e. Predict New Point (1,1) using Kernel RR"
   ]
  },
  {
   "cell_type": "code",
   "execution_count": 7,
   "id": "6498462a",
   "metadata": {},
   "outputs": [
    {
     "name": "stdout",
     "output_type": "stream",
     "text": [
      "Prediction: 0.4130434782608695\n"
     ]
    }
   ],
   "source": [
    "# Calc new kernel\n",
    "kernel_new = np.array([kernel(x_new, xi) for xi in X])\n",
    "pred = np.dot(a_star, kernel_new)\n",
    "print(\"Prediction:\", pred)"
   ]
  }
 ],
 "metadata": {
  "kernelspec": {
   "display_name": "Python 3 (ipykernel)",
   "language": "python",
   "name": "python3"
  },
  "language_info": {
   "codemirror_mode": {
    "name": "ipython",
    "version": 3
   },
   "file_extension": ".py",
   "mimetype": "text/x-python",
   "name": "python",
   "nbconvert_exporter": "python",
   "pygments_lexer": "ipython3",
   "version": "3.10.9"
  }
 },
 "nbformat": 4,
 "nbformat_minor": 5
}
