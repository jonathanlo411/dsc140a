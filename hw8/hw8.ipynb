{
 "cells": [
  {
   "cell_type": "markdown",
   "id": "063e990e",
   "metadata": {},
   "source": [
    "# HW8"
   ]
  },
  {
   "cell_type": "code",
   "execution_count": 1,
   "id": "d7e9b16d",
   "metadata": {},
   "outputs": [],
   "source": [
    "# Imports\n",
    "import numpy as np\n",
    "import pandas as pd\n",
    "from scipy.stats import multivariate_normal"
   ]
  },
  {
   "cell_type": "code",
   "execution_count": 2,
   "id": "0c634ba0",
   "metadata": {},
   "outputs": [],
   "source": [
    "# Overhead\n",
    "url = 'https://f000.backblazeb2.com/file/jeldridge-data/003-two_clusters/data.csv'\n",
    "df = pd.read_csv(url, header=None)\n",
    "df = df.rename(columns={0: 'x_1', 1: 'x_2', 2: 'y'})\n",
    "\n",
    "# Separate data points for each class\n",
    "class_1_data = df[df['y'] == 1][['x_1', 'x_2']]\n",
    "class_minus_1_data = df[df['y'] == -1][['x_1', 'x_2']]"
   ]
  },
  {
   "cell_type": "markdown",
   "id": "b5051733",
   "metadata": {},
   "source": [
    "## Q1a"
   ]
  },
  {
   "cell_type": "code",
   "execution_count": 3,
   "id": "341d4001",
   "metadata": {},
   "outputs": [
    {
     "name": "stdout",
     "output_type": "stream",
     "text": [
      "Covariance matrix for class 1:\n",
      " [[12.54677567  0.28671657]\n",
      " [ 0.28671657 16.39557894]]\n",
      "\n",
      "Covariance matrix for class -1:\n",
      " [[11.14016555  0.54097682]\n",
      " [ 0.54097682 15.48286649]]\n"
     ]
    }
   ],
   "source": [
    "# Compute covariance\n",
    "cov_class_1 = np.cov(class_1_data, rowvar=False)\n",
    "cov_class_minus_1 = np.cov(class_minus_1_data, rowvar=False)\n",
    "\n",
    "print(\"Covariance matrix for class 1:\\n\", cov_class_1)\n",
    "print(\"\\nCovariance matrix for class -1:\\n\", cov_class_minus_1)"
   ]
  },
  {
   "cell_type": "markdown",
   "id": "cd97793f",
   "metadata": {},
   "source": [
    "## Q1b"
   ]
  },
  {
   "cell_type": "code",
   "execution_count": 4,
   "id": "0e6618b1",
   "metadata": {},
   "outputs": [
    {
     "name": "stdout",
     "output_type": "stream",
     "text": [
      "Point (0, 0): Predicted Label = -1\n",
      "Point (1, 1): Predicted Label = -1\n",
      "Point (10, 5): Predicted Label = 1\n",
      "Point (5, -5): Predicted Label = -1\n",
      "Point (8, 5): Predicted Label = -1\n"
     ]
    }
   ],
   "source": [
    "points_to_predict = [(0, 0), (1, 1), (10, 5), (5, -5), (8, 5)]\n",
    "\n",
    "# Get means \n",
    "mean_class_1 = class_1_data.mean().values\n",
    "mean_class_minus_1 = class_minus_1_data.mean().values\n",
    "\n",
    "# Comp covariance\n",
    "cov_class_1 = np.cov(class_1_data, rowvar=False)\n",
    "cov_class_minus_1 = np.cov(class_minus_1_data, rowvar=False)\n",
    "\n",
    "# Create the multivar norm\n",
    "mvn_class_1 = multivariate_normal(mean=mean_class_1, cov=cov_class_1)\n",
    "mvn_class_minus_1 = multivariate_normal(mean=mean_class_minus_1, cov=cov_class_minus_1)\n",
    "\n",
    "# Preds\n",
    "for point in points_to_predict:\n",
    "    # Compute pdfs\n",
    "    pdf_class_1 = mvn_class_1.pdf(point)\n",
    "    pdf_class_minus_1 = mvn_class_minus_1.pdf(point)\n",
    "    \n",
    "    # Assign the class with the highest posterior probability\n",
    "    if pdf_class_1 > pdf_class_minus_1:\n",
    "        predicted_label = 1\n",
    "    else:\n",
    "        predicted_label = -1\n",
    "    \n",
    "    # Output the result\n",
    "    print(f\"Point {point}: Predicted Label = {predicted_label}\")"
   ]
  }
 ],
 "metadata": {
  "kernelspec": {
   "display_name": "Python 3 (ipykernel)",
   "language": "python",
   "name": "python3"
  },
  "language_info": {
   "codemirror_mode": {
    "name": "ipython",
    "version": 3
   },
   "file_extension": ".py",
   "mimetype": "text/x-python",
   "name": "python",
   "nbconvert_exporter": "python",
   "pygments_lexer": "ipython3",
   "version": "3.10.9"
  }
 },
 "nbformat": 4,
 "nbformat_minor": 5
}
