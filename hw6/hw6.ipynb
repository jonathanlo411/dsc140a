{
 "cells": [
  {
   "cell_type": "markdown",
   "id": "f2d98bf5",
   "metadata": {},
   "source": [
    "# HW6"
   ]
  },
  {
   "cell_type": "code",
   "execution_count": 1,
   "id": "67bc51bd",
   "metadata": {},
   "outputs": [],
   "source": [
    "# Imports\n",
    "import pandas as pd\n",
    "import numpy as np\n",
    "from scipy.stats import norm"
   ]
  },
  {
   "cell_type": "code",
   "execution_count": 2,
   "id": "0fbc7964",
   "metadata": {},
   "outputs": [],
   "source": [
    "# Overhead\n",
    "df = pd.read_csv('data.csv', header=None)\n",
    "df = df.rename(columns={0: 'x', 1: 'y'})\n",
    "bins = np.arange(0, 15.5, 1.5)"
   ]
  },
  {
   "cell_type": "markdown",
   "id": "13a421f1",
   "metadata": {},
   "source": [
    "## Q2 (cont.)"
   ]
  },
  {
   "cell_type": "code",
   "execution_count": 3,
   "id": "f4c063a3",
   "metadata": {},
   "outputs": [
    {
     "name": "stdout",
     "output_type": "stream",
     "text": [
      "Bayes Error: 0.3085375387259869\n"
     ]
    }
   ],
   "source": [
    "# Params for y=1 and y=0\n",
    "mu_1 = 2\n",
    "sigma_1 = 3\n",
    "mu_2 = 5\n",
    "sigma_2 = 3\n",
    "\n",
    "# Calc areas under curver\n",
    "epsilon_1 = 1 - norm.cdf(7/2, mu_1, sigma_1)\n",
    "epsilon_0 = norm.cdf(7/2, mu_2, sigma_2)\n",
    "\n",
    "# Bayes error\n",
    "bayes_error = 0.5 * (epsilon_1 + epsilon_0)\n",
    "print(f'Bayes Error: {bayes_error}')"
   ]
  },
  {
   "cell_type": "markdown",
   "id": "917f8735",
   "metadata": {},
   "source": [
    "## Q3a"
   ]
  },
  {
   "cell_type": "code",
   "execution_count": 4,
   "id": "6c017a8f",
   "metadata": {},
   "outputs": [
    {
     "name": "stdout",
     "output_type": "stream",
     "text": [
      "Probability P(Y = 1 | X = 6.271): 0.7142857142857143\n"
     ]
    }
   ],
   "source": [
    "# Calc direct hist\n",
    "x_value = 6.271\n",
    "hist, bin_edges = np.histogram(df['x'], bins=bins)\n",
    "bin_index = np.searchsorted(bin_edges, x_value, side='right') - 1\n",
    "\n",
    "# Find prob\n",
    "y_1_count = np.sum(df[df['y'] == 1]['x'].between(bin_edges[bin_index], bin_edges[bin_index + 1]))\n",
    "total_count = hist[bin_index]\n",
    "probability = y_1_count / total_count\n",
    "\n",
    "print(\"Probability P(Y = 1 | X = 6.271):\", probability)"
   ]
  },
  {
   "cell_type": "markdown",
   "id": "3747e1e5",
   "metadata": {},
   "source": [
    "## Q3b"
   ]
  },
  {
   "cell_type": "code",
   "execution_count": 5,
   "id": "b64da89e",
   "metadata": {},
   "outputs": [
    {
     "name": "stdout",
     "output_type": "stream",
     "text": [
      "Estimated P(Y = 1 | X = 6.271): 0.7723489760058244\n"
     ]
    }
   ],
   "source": [
    "X = df['x']\n",
    "Y = df['y']\n",
    "\n",
    "# Calc the marginal density \n",
    "p_X = norm.pdf(x_value, loc=X.mean(), scale=X.std())\n",
    "p_X_Y1 = norm.pdf(x_value, loc=X[Y == 1].mean(), scale=X[Y == 1].std())\n",
    "\n",
    "# Calc px\n",
    "P_Y1 = np.mean(Y)\n",
    "P_X = (p_X_Y1 * P_Y1) + (norm.pdf(x_value, loc=X[Y == 0].mean(), scale=X[Y == 0].std()) * (1 - P_Y1))\n",
    "\n",
    "# Apply Bayes' rule\n",
    "P_Y1_X = (p_X_Y1 * P_Y1) / P_X\n",
    "print(\"Estimated P(Y = 1 | X = 6.271):\", P_Y1_X)"
   ]
  },
  {
   "cell_type": "markdown",
   "id": "85eb4992",
   "metadata": {},
   "source": [
    "## Q3c"
   ]
  },
  {
   "cell_type": "code",
   "execution_count": 6,
   "id": "a1a99d15",
   "metadata": {},
   "outputs": [
    {
     "name": "stdout",
     "output_type": "stream",
     "text": [
      "y = 1 for x ∈ [0, 7]\n"
     ]
    }
   ],
   "source": [
    "x_values = np.linspace(0, 15, 1000)\n",
    "predicted_y_1_x_values = []\n",
    "P_Y1 = np.mean(Y)\n",
    "\n",
    "# Calc range using brute force\n",
    "for x_value in x_values:\n",
    "    p_X_Y1 = norm.pdf(x_value, loc=X[Y == 1].mean(), scale=X[Y == 1].std())\n",
    "    p_X_Y0 = norm.pdf(x_value, loc=X[Y == 0].mean(), scale=X[Y == 0].std())\n",
    "    P_Y1_X = (p_X_Y1 * P_Y1) / (p_X_Y1 * P_Y1 + p_X_Y0 * (1 - P_Y1))\n",
    "    P_Y0_X = 1 - P_Y1_X\n",
    "\n",
    "    if P_Y1_X > P_Y0_X:\n",
    "        predicted_y_1_x_values.append(x_value)\n",
    "\n",
    "mi, ma = int(min(predicted_y_1_x_values)), int(max(predicted_y_1_x_values))\n",
    "print(f\"y = 1 for x ∈ [{mi}, {ma}]\")"
   ]
  }
 ],
 "metadata": {
  "kernelspec": {
   "display_name": "Python 3 (ipykernel)",
   "language": "python",
   "name": "python3"
  },
  "language_info": {
   "codemirror_mode": {
    "name": "ipython",
    "version": 3
   },
   "file_extension": ".py",
   "mimetype": "text/x-python",
   "name": "python",
   "nbconvert_exporter": "python",
   "pygments_lexer": "ipython3",
   "version": "3.10.9"
  }
 },
 "nbformat": 4,
 "nbformat_minor": 5
}
